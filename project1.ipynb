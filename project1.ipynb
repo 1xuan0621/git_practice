{
  "nbformat": 4,
  "nbformat_minor": 0,
  "metadata": {
    "colab": {
      "name": "project1.ipynb",
      "provenance": [],
      "authorship_tag": "ABX9TyMmKHAoniGI7S/Jw0hJzqow",
      "include_colab_link": true
    },
    "kernelspec": {
      "name": "python3",
      "display_name": "Python 3"
    },
    "language_info": {
      "name": "python"
    }
  },
  "cells": [
    {
      "cell_type": "markdown",
      "metadata": {
        "id": "view-in-github",
        "colab_type": "text"
      },
      "source": [
        "<a href=\"https://colab.research.google.com/github/1xuan0621/git_practice/blob/master/project1.ipynb\" target=\"_parent\"><img src=\"https://colab.research.google.com/assets/colab-badge.svg\" alt=\"Open In Colab\"/></a>"
      ]
    },
    {
      "cell_type": "code",
      "execution_count": 93,
      "metadata": {
        "id": "C9l04cDzX8gK",
        "colab": {
          "base_uri": "https://localhost:8080/"
        },
        "outputId": "3d3e00ad-e801-42ac-9099-eb2dcbef3276"
      },
      "outputs": [
        {
          "output_type": "stream",
          "name": "stdout",
          "text": [
            "Drive already mounted at /content/drive; to attempt to forcibly remount, call drive.mount(\"/content/drive\", force_remount=True).\n"
          ]
        }
      ],
      "source": [
        "from google.colab import drive\n",
        "drive.mount('/content/drive')"
      ]
    },
    {
      "cell_type": "code",
      "source": [
        "!pip install line-bot-sdk flask flask-ngrok"
      ],
      "metadata": {
        "colab": {
          "base_uri": "https://localhost:8080/"
        },
        "id": "hcbwNhW34NT3",
        "outputId": "641ad840-bf87-40ac-8a08-6ef90bcc94d7"
      },
      "execution_count": 94,
      "outputs": [
        {
          "output_type": "stream",
          "name": "stdout",
          "text": [
            "Looking in indexes: https://pypi.org/simple, https://us-python.pkg.dev/colab-wheels/public/simple/\n",
            "Requirement already satisfied: line-bot-sdk in /usr/local/lib/python3.7/dist-packages (2.3.0)\n",
            "Requirement already satisfied: flask in /usr/local/lib/python3.7/dist-packages (1.1.4)\n",
            "Requirement already satisfied: flask-ngrok in /usr/local/lib/python3.7/dist-packages (0.0.25)\n",
            "Requirement already satisfied: future in /usr/local/lib/python3.7/dist-packages (from line-bot-sdk) (0.16.0)\n",
            "Requirement already satisfied: requests>=2.0 in /usr/local/lib/python3.7/dist-packages (from line-bot-sdk) (2.23.0)\n",
            "Requirement already satisfied: aiohttp>=3.7.4 in /usr/local/lib/python3.7/dist-packages (from line-bot-sdk) (3.8.1)\n",
            "Requirement already satisfied: aiosignal>=1.1.2 in /usr/local/lib/python3.7/dist-packages (from aiohttp>=3.7.4->line-bot-sdk) (1.2.0)\n",
            "Requirement already satisfied: async-timeout<5.0,>=4.0.0a3 in /usr/local/lib/python3.7/dist-packages (from aiohttp>=3.7.4->line-bot-sdk) (4.0.2)\n",
            "Requirement already satisfied: asynctest==0.13.0 in /usr/local/lib/python3.7/dist-packages (from aiohttp>=3.7.4->line-bot-sdk) (0.13.0)\n",
            "Requirement already satisfied: charset-normalizer<3.0,>=2.0 in /usr/local/lib/python3.7/dist-packages (from aiohttp>=3.7.4->line-bot-sdk) (2.1.0)\n",
            "Requirement already satisfied: typing-extensions>=3.7.4 in /usr/local/lib/python3.7/dist-packages (from aiohttp>=3.7.4->line-bot-sdk) (4.1.1)\n",
            "Requirement already satisfied: multidict<7.0,>=4.5 in /usr/local/lib/python3.7/dist-packages (from aiohttp>=3.7.4->line-bot-sdk) (6.0.2)\n",
            "Requirement already satisfied: yarl<2.0,>=1.0 in /usr/local/lib/python3.7/dist-packages (from aiohttp>=3.7.4->line-bot-sdk) (1.8.1)\n",
            "Requirement already satisfied: attrs>=17.3.0 in /usr/local/lib/python3.7/dist-packages (from aiohttp>=3.7.4->line-bot-sdk) (22.1.0)\n",
            "Requirement already satisfied: frozenlist>=1.1.1 in /usr/local/lib/python3.7/dist-packages (from aiohttp>=3.7.4->line-bot-sdk) (1.3.1)\n",
            "Requirement already satisfied: idna<3,>=2.5 in /usr/local/lib/python3.7/dist-packages (from requests>=2.0->line-bot-sdk) (2.10)\n",
            "Requirement already satisfied: chardet<4,>=3.0.2 in /usr/local/lib/python3.7/dist-packages (from requests>=2.0->line-bot-sdk) (3.0.4)\n",
            "Requirement already satisfied: certifi>=2017.4.17 in /usr/local/lib/python3.7/dist-packages (from requests>=2.0->line-bot-sdk) (2022.6.15)\n",
            "Requirement already satisfied: urllib3!=1.25.0,!=1.25.1,<1.26,>=1.21.1 in /usr/local/lib/python3.7/dist-packages (from requests>=2.0->line-bot-sdk) (1.24.3)\n",
            "Requirement already satisfied: Jinja2<3.0,>=2.10.1 in /usr/local/lib/python3.7/dist-packages (from flask) (2.11.3)\n",
            "Requirement already satisfied: Werkzeug<2.0,>=0.15 in /usr/local/lib/python3.7/dist-packages (from flask) (1.0.1)\n",
            "Requirement already satisfied: itsdangerous<2.0,>=0.24 in /usr/local/lib/python3.7/dist-packages (from flask) (1.1.0)\n",
            "Requirement already satisfied: click<8.0,>=5.1 in /usr/local/lib/python3.7/dist-packages (from flask) (7.1.2)\n",
            "Requirement already satisfied: MarkupSafe>=0.23 in /usr/local/lib/python3.7/dist-packages (from Jinja2<3.0,>=2.10.1->flask) (2.0.1)\n"
          ]
        }
      ]
    },
    {
      "cell_type": "code",
      "source": [
        "from flask import Flask, request, abort, jsonify\n",
        "\n",
        "import json\n",
        "\n",
        "from flask_ngrok import run_with_ngrok\n",
        "\n",
        "from linebot import LineBotApi, WebhookHandler\n",
        "\n",
        "from linebot.exceptions import InvalidSignatureError\n",
        "\n",
        "from linebot.models import *\n",
        "\n",
        "import requests"
      ],
      "metadata": {
        "id": "ej69pUq_4Ui_"
      },
      "execution_count": 95,
      "outputs": []
    },
    {
      "cell_type": "code",
      "source": [
        "app = Flask(__name__,static_url_path = \"/material\" , static_folder = \"./material/\")\n",
        "run_with_ngrok(app)\n",
        "\n",
        "# 生成實體物件\n",
        "line_bot_api = LineBotApi(\"cCC/sWeqpseuaq2I6V4y+p6+qeSleyTqT/porO8G/HqDpXwKN+0izUwvHmCxb9Uu9LrIVDJJU8HzNGVq6igSEGAbVDaOww6UNs7IMrI1V3o3ppPLFVhd4WSwOxJM2E17+nnjrgTfxG663Gs/Mq2xmQdB04t89/1O/w1cDnyilFU=\")\n",
        "handler = WebhookHandler(\"36ddfc64d08a3da63dd98486c14f5314\")"
      ],
      "metadata": {
        "id": "sr3GB3s944eX"
      },
      "execution_count": 96,
      "outputs": []
    },
    {
      "cell_type": "code",
      "source": [
        "@app.route(\"/\", methods=['POST'])\n",
        "def callback():\n",
        "    # get X-Line-Signature header value\n",
        "    signature = request.headers['X-Line-Signature']\n",
        "\n",
        "    # get request body as text\n",
        "    body = request.get_data(as_text=True)\n",
        "    print(body)\n",
        "\n",
        "    # 記錄用戶log\n",
        "    with open(\"/content/drive/MyDrive/ai-event.log\", \"a\") as f:\n",
        "        f.write(body)\n",
        "    # handle webhook body\n",
        "    try:\n",
        "        handler.handle(body, signature)\n",
        "    except InvalidSignatureError:\n",
        "        abort(400)\n",
        "\n",
        "    return 'OK'"
      ],
      "metadata": {
        "id": "m7FRVqpz67DY"
      },
      "execution_count": 97,
      "outputs": []
    },
    {
      "cell_type": "code",
      "source": [
        "# 追隨後發送消息\n",
        "\n",
        "from linebot.models.events import FollowEvent\n",
        "\n",
        "# from linebot.models import TextSendMessage, ImageSendMessage\n",
        "\n",
        "@handler.add(FollowEvent)\n",
        "def reply_text_and_get_user_profile(event):\n",
        "\n",
        "  user_profile = line_bot_api.get_profile(event.source.user_id)\n",
        "\n",
        "  with open(\"/content/drive/MyDrive/user.txt\", \"a\") as myfile:\n",
        "    myfile.write(json.dumps(vars(user_profile), sort_keys=True))\n",
        "    myfile.write('\\n')\n",
        "\n",
        "  line_bot_api.reply_message(\n",
        "      event.reply_token,\n",
        "      [TextSendMessage('感謝您將旅遊機器人加入好友！請輸入@help獲得更多資訊，或直接使用圖文選單進行操作。')]\n",
        "  )"
      ],
      "metadata": {
        "id": "eTmo-VD27Swc"
      },
      "execution_count": 98,
      "outputs": []
    },
    {
      "cell_type": "code",
      "source": [
        "# 圖文選單設置\n",
        "menuRawData=\"\"\"\n",
        "{\n",
        "  \"size\": {\n",
        "    \"width\": 2500,\n",
        "    \"height\": 843\n",
        "  },\n",
        "  \"selected\": true,\n",
        "  \"name\": \"圖文選單 1\",\n",
        "  \"chatBarText\": \"查看更多資訊\",\n",
        "  \"areas\": [\n",
        "    {\n",
        "      \"bounds\": {\n",
        "        \"x\": 0,\n",
        "        \"y\": 0,\n",
        "        \"width\": 826,\n",
        "        \"height\": 843\n",
        "      },\n",
        "      \"action\": {\n",
        "        \"type\": \"message\",\n",
        "        \"text\": \"@景點\"\n",
        "      }\n",
        "    },\n",
        "    {\n",
        "      \"bounds\": {\n",
        "        \"x\": 842,\n",
        "        \"y\": 0,\n",
        "        \"width\": 811,\n",
        "        \"height\": 843\n",
        "      },\n",
        "      \"action\": {\n",
        "        \"type\": \"message\",\n",
        "        \"text\": \"@help\"\n",
        "      }\n",
        "    },\n",
        "    {\n",
        "      \"bounds\": {\n",
        "        \"x\": 1663,\n",
        "        \"y\": 0,\n",
        "        \"width\": 837,\n",
        "        \"height\": 843\n",
        "      },\n",
        "      \"action\": {\n",
        "        \"type\": \"message\",\n",
        "        \"text\": \"@美食\"\n",
        "      }\n",
        "    }\n",
        "  ]\n",
        "}\n",
        "\"\"\""
      ],
      "metadata": {
        "id": "zlIPbT0c4MUe"
      },
      "execution_count": 99,
      "outputs": []
    },
    {
      "cell_type": "code",
      "source": [
        "menuJson=json.loads(menuRawData)\n",
        "\n",
        "lineRichMenuId = line_bot_api.create_rich_menu(rich_menu=RichMenu.new_from_json_dict(menuJson))\n",
        "print(lineRichMenuId)\n",
        "\n",
        "\n",
        "uploadImageFile=open(\"blockchain_demo.jpg\",'rb')\n",
        "\n",
        "setImageResponse = line_bot_api.set_rich_menu_image(lineRichMenuId,'image/jpeg',uploadImageFile)\n",
        "\n",
        "print(setImageResponse)\n",
        "\n",
        "linkResult=line_bot_api.link_rich_menu_to_user(\"U97f2bcd49832938af4e5939dc8784145\", lineRichMenuId)\n",
        "\n",
        "print(linkResult)"
      ],
      "metadata": {
        "colab": {
          "base_uri": "https://localhost:8080/"
        },
        "id": "_hMOVpjq4cmu",
        "outputId": "f77e72b9-a01a-4c75-f412-fcb9f7df4db0"
      },
      "execution_count": 100,
      "outputs": [
        {
          "output_type": "stream",
          "name": "stdout",
          "text": [
            "richmenu-56f32758f2b9fc2a415450d79aa8e04b\n",
            "None\n",
            "None\n"
          ]
        }
      ]
    },
    {
      "cell_type": "code",
      "source": [
        "# 景點範本\n",
        "carousel_template_message = TemplateSendMessage(\n",
        "    alt_text='Carousel template',\n",
        "    template=CarouselTemplate(\n",
        "        columns=[\n",
        "            CarouselColumn(\n",
        "                thumbnail_image_url='https://img.onl/PO9aQy',\n",
        "                title='蘭陽博物館',\n",
        "                text='以「宜蘭是一座博物館」為理念，保存並維護宜蘭的自然與人文環境，透過研究典藏、展示教育等功能，是今日主要認識宜蘭的「窗口」',\n",
        "                actions=[\n",
        "                    URITemplateAction(\n",
        "                        label='查看',\n",
        "                        uri='https://www.lym.gov.tw/ch/index.html'\n",
        "                    ),\n",
        "                    PostbackTemplateAction(\n",
        "                        label='接受任務',\n",
        "                        text='@蘭陽博物館',\n",
        "                        data='喜歡博物館'\n",
        "                    ),\n",
        "                ]\n",
        "            ),\n",
        "            CarouselColumn(\n",
        "                thumbnail_image_url='https://img.onl/LrBdy6',\n",
        "                title='宜蘭火車站',\n",
        "                text='原為復古的紅磚建築，而後配合周邊的丟丟噹森林和幾米公園，全面重新規劃改裝，吸引了眾多旅客駐足取景，為全台灣最可愛的火車站',\n",
        "                actions=[\n",
        "                    URITemplateAction(\n",
        "                        label='查看',\n",
        "                        uri='https://pfse64289.pixnet.net/blog/post/334217191-宜蘭火車站一日遊'\n",
        "                    ),\n",
        "                    PostbackTemplateAction(\n",
        "                        label='接受任務',\n",
        "                        text='@宜蘭火車站',\n",
        "                        data='喜歡拍照'\n",
        "                    ),\n",
        "                ]\n",
        "            ),CarouselColumn(\n",
        "                thumbnail_image_url='https://img.onl/Qi7pUf',\n",
        "                title='傳統藝術中心',\n",
        "                text='傳統藝術，是民間生活藝術之美，先民薪傳文化之源。藉由各項研究、保存、傳襲及展演計畫的推動，建立臺灣的文化精神代表。術',\n",
        "                actions=[\n",
        "                    URITemplateAction(\n",
        "                        label='查看',\n",
        "                        uri='https://www.ncfta.gov.tw/'\n",
        "                    ),\n",
        "                    PostbackTemplateAction(\n",
        "                        label='接受任務',\n",
        "                        text='@傳統藝術中心',\n",
        "                        data='喜歡博物館'\n",
        "                    ),\n",
        "                ]\n",
        "            ),\n",
        "        ]\n",
        "    )\n",
        ")"
      ],
      "metadata": {
        "id": "7GRaejA3Pdja"
      },
      "execution_count": 101,
      "outputs": []
    },
    {
      "cell_type": "code",
      "source": [
        "# 美食範本\n",
        "carousel_template_message_food = TemplateSendMessage(\n",
        "    alt_text='Carousel template',\n",
        "    template=CarouselTemplate(\n",
        "        columns=[\n",
        "            CarouselColumn(\n",
        "                thumbnail_image_url='https://img.onl/GQVKw8',\n",
        "                title='正好鮮肉小籠包',\n",
        "                text='很好吃就對了啦\\n營業時間：10:00~15:00（週一公休）',\n",
        "                actions=[\n",
        "                    URITemplateAction(\n",
        "                        label='打電話',\n",
        "                        uri='tel://039325641'\n",
        "                    ),\n",
        "                    PostbackTemplateAction(\n",
        "                        label='領取優惠券',\n",
        "                        text='@小籠包優惠券',\n",
        "                        data='poor'\n",
        "                    ),\n",
        "                ]\n",
        "            ),\n",
        "            CarouselColumn(\n",
        "                thumbnail_image_url='https://img.onl/rqN6gS',\n",
        "                title='礁溪柯氏蔥油餅',\n",
        "                text='我也沒吃過，反正很多人排隊。\\n營業時間：09:00~18:00 (週三公休)',\n",
        "                actions=[\n",
        "                    URITemplateAction(\n",
        "                        label='打電話',\n",
        "                        uri='tel://0985873689'\n",
        "                    ),\n",
        "                    PostbackTemplateAction(\n",
        "                        label='領取優惠券',\n",
        "                        text='@蔥油餅優惠券',\n",
        "                        data='poor'\n",
        "                    ),\n",
        "                ]\n",
        "            ),CarouselColumn(\n",
        "                thumbnail_image_url='https://img.onl/UmhpjP',\n",
        "                title='蘭城晶英酒店紅樓櫻桃鴨',\n",
        "                text='好吃，超級貴，自己好好想想。\\n營業時間：11:00~15:00；17:00~21:00',\n",
        "                actions=[\n",
        "                    URITemplateAction(\n",
        "                        label='打電話',\n",
        "                        uri='tel://039101011'\n",
        "                    ),\n",
        "                    PostbackTemplateAction(\n",
        "                        label='領取優惠券',\n",
        "                        text='@櫻桃鴨優惠券',\n",
        "                        data='rich'\n",
        "                    ),\n",
        "                ]\n",
        "            ),\n",
        "        ]\n",
        "    )\n",
        ")"
      ],
      "metadata": {
        "id": "sBAoFcctlUm7"
      },
      "execution_count": 102,
      "outputs": []
    },
    {
      "cell_type": "code",
      "source": [
        "# 按鍵模板\n",
        "buttons_template_message = TemplateSendMessage(\n",
        "    alt_text='Buttons template',\n",
        "    template=ButtonsTemplate(\n",
        "        title='更多幫助',\n",
        "        text='請點擊下方按鈕獲得更多幫助',\n",
        "        actions=[\n",
        "          {\n",
        "            \"type\": \"message\",\n",
        "            \"label\": \"景點\",\n",
        "            \"text\": \"@景點\",\n",
        "          },\n",
        "          {\n",
        "            \"type\": \"message\",\n",
        "            \"label\": \"美食\",\n",
        "            \"text\": \"@美食\",\n",
        "          }\n",
        "        ],\n",
        "  )\n",
        ")"
      ],
      "metadata": {
        "id": "cEU9ql3GRqBw"
      },
      "execution_count": 103,
      "outputs": []
    },
    {
      "cell_type": "code",
      "source": [
        "## 點擊後，開啟相機\n",
        "cameraQuickReplyButton = QuickReplyButton(\n",
        "    action=CameraAction(label=\"拍照\")\n",
        ")\n",
        "## 點擊後，跳出地理位置\n",
        "locationQRB = QuickReplyButton(\n",
        "    action=LocationAction(label=\"地理位置\")\n",
        ")\n",
        "## 點擊後，以Postback事件回應Server \n",
        "postbackQRB = QuickReplyButton(\n",
        "    action=PostbackAction(label=\"我放棄:(\", data=\"loser\")\n",
        ")\n",
        "\n",
        "quickReplyList = QuickReply(\n",
        "    items = [cameraQuickReplyButton, locationQRB, postbackQRB]\n",
        ")\n",
        "quick_reply_text_send_message = TextSendMessage(text='拍一張照片或是回報目前位置吧', quick_reply=quickReplyList)"
      ],
      "metadata": {
        "id": "vMViBcZDgBiP"
      },
      "execution_count": 104,
      "outputs": []
    },
    {
      "cell_type": "code",
      "source": [
        "# 設計字典，用戶輸入關鍵字輸出對應字\n",
        "from linebot.models import (\n",
        "    MessageEvent, TextMessage, TextSendMessage, ImageSendMessage\n",
        ")\n",
        "template_message_dict = {\n",
        "    \"@help\":buttons_template_message,\n",
        "    \"@景點\":carousel_template_message,\n",
        "    \"@蘭陽博物館\":quick_reply_text_send_message,\n",
        "    \"@宜蘭火車站\":quick_reply_text_send_message,\n",
        "    \"@傳統藝術中心\":quick_reply_text_send_message,\n",
        "    \"@美食\":carousel_template_message_food,\n",
        "    \"@小籠包優惠券\":TextSendMessage('目前無優惠券'),\n",
        "    \"@蔥油餅優惠券\":TextSendMessage('目前無優惠券'),\n",
        "    \"@櫻桃鴨優惠券\":TextSendMessage('目前無優惠券'),\n",
        "}"
      ],
      "metadata": {
        "id": "GLNZXQdvooHp"
      },
      "execution_count": 105,
      "outputs": []
    },
    {
      "cell_type": "code",
      "source": [
        "# 用戶發出文字消息時， 按條件內容, 回傳文字消息\n",
        "@handler.add(MessageEvent, message=TextMessage)\n",
        "def handle_message(event):\n",
        "\n",
        "    if(event.message.text.find('@')!= -1):\n",
        "        line_bot_api.reply_message(\n",
        "        event.reply_token,\n",
        "        template_message_dict.get(event.message.text)\n",
        "        )\n",
        "    else:\n",
        "        line_bot_api.reply_message(\n",
        "        event.reply_token,\n",
        "        TextSendMessage(text=\"字典內查無此字，請輸入@help\")\n",
        "        )"
      ],
      "metadata": {
        "id": "phFXBmSMMA87"
      },
      "execution_count": 106,
      "outputs": []
    },
    {
      "cell_type": "code",
      "source": [
        "#用戶點擊button後，觸發postback event，對其回傳做相對應處理\n",
        "\n",
        "@handler.add(PostbackEvent)\n",
        "def handle_post_message(event):\n",
        "    user_profile = line_bot_api.get_profile(event.source.user_id)\n",
        "    if (event.postback.data.find('Data1')== 0):\n",
        "        with open(\"user_profile_business.txt\", \"a\") as myfile:\n",
        "            myfile.write(json.dumps(vars(user_profile),sort_keys=True))\n",
        "            myfile.write('\\n')\n",
        "            line_bot_api.reply_message(\n",
        "            event.reply_token,\n",
        "                TextMessage(\n",
        "                    text='請稍待，會有專人與您聯繫'\n",
        "                )\n",
        "            )\n",
        "    elif (event.postback.data.find('Data2') == 0):\n",
        "        with open(\"user_profile_tutorial.txt\", \"a\") as myfile:\n",
        "            myfile.write(json.dumps(vars(user_profile),sort_keys=True))\n",
        "            myfile.write('\\n')\n",
        "            line_bot_api.reply_message(\n",
        "            event.reply_token,\n",
        "                TextMessage(\n",
        "                    text='請稍待，我們會派專家與您聯繫'\n",
        "                )\n",
        "            )\n",
        "    elif (event.postback.data.find('喜歡博物館')== 0):\n",
        "        with open(\"user_profile_business.txt\", \"a\") as myfile:\n",
        "            myfile.write(json.dumps(vars(user_profile),sort_keys=True))\n",
        "            myfile.write('\\n')\n",
        "            line_bot_api.reply_message(\n",
        "            event.reply_token,\n",
        "                TextMessage(\n",
        "                    text='感謝您接下蘭陽博物館的任務，請依照以下任務內容完成任務。'\n",
        "                )\n",
        "            )\n",
        "    elif (event.postback.data.find('喜歡拍照') == 0):\n",
        "        with open(\"user_profile_tutorial.txt\", \"a\") as myfile:\n",
        "            myfile.write(json.dumps(vars(user_profile),sort_keys=True))\n",
        "            myfile.write('\\n')\n",
        "            line_bot_api.reply_message(\n",
        "            event.reply_token,\n",
        "                TextMessage(\n",
        "                    text='感謝您接下宜蘭火車站的任務，請依照以下任務內容完成任務。'\n",
        "                )\n",
        "            )\n",
        "    elif (event.postback.data.find('喜歡傳統藝術') == 0):\n",
        "        with open(\"user_profile_tutorial.txt\", \"a\") as myfile:\n",
        "            myfile.write(json.dumps(vars(user_profile),sort_keys=True))\n",
        "            myfile.write('\\n')\n",
        "            line_bot_api.reply_message(\n",
        "            event.reply_token,\n",
        "                TextMessage(\n",
        "                    text='感謝您接下傳統藝術中心的任務，請依照以下任務內容完成任務。'\n",
        "                )\n",
        "            )\n",
        "    else:\n",
        "        pass"
      ],
      "metadata": {
        "id": "X706Kx6YN-cy"
      },
      "execution_count": 107,
      "outputs": []
    },
    {
      "cell_type": "code",
      "source": [
        "app.run()"
      ],
      "metadata": {
        "colab": {
          "base_uri": "https://localhost:8080/"
        },
        "id": "F9Ro2kWdDbyp",
        "outputId": "c190bed3-b09a-4d59-88db-239b124fb184"
      },
      "execution_count": 108,
      "outputs": [
        {
          "output_type": "stream",
          "name": "stdout",
          "text": [
            " * Serving Flask app \"__main__\" (lazy loading)\n",
            " * Environment: production\n",
            "\u001b[31m   WARNING: This is a development server. Do not use it in a production deployment.\u001b[0m\n",
            "\u001b[2m   Use a production WSGI server instead.\u001b[0m\n",
            " * Debug mode: off\n"
          ]
        },
        {
          "output_type": "stream",
          "name": "stderr",
          "text": [
            "INFO:werkzeug: * Running on http://127.0.0.1:5000/ (Press CTRL+C to quit)\n"
          ]
        },
        {
          "output_type": "stream",
          "name": "stdout",
          "text": [
            " * Running on http://707e-35-225-135-142.ngrok.io\n",
            " * Traffic stats available on http://127.0.0.1:4040\n",
            "{\"destination\":\"U231503724031c8bc9c1fb712a41cc6aa\",\"events\":[{\"type\":\"message\",\"message\":{\"type\":\"text\",\"id\":\"16691912748651\",\"text\":\"@景點\"},\"webhookEventId\":\"01GBMYQXF4ERXTRSF3FTWQB2V0\",\"deliveryContext\":{\"isRedelivery\":false},\"timestamp\":1661781931024,\"source\":{\"type\":\"user\",\"userId\":\"U97f2bcd49832938af4e5939dc8784145\"},\"replyToken\":\"c421b013c8594b1086c1bbf5615232ac\",\"mode\":\"active\"}]}\n"
          ]
        },
        {
          "output_type": "stream",
          "name": "stderr",
          "text": [
            "INFO:werkzeug:127.0.0.1 - - [29/Aug/2022 14:05:32] \"\u001b[37mPOST / HTTP/1.1\u001b[0m\" 200 -\n"
          ]
        },
        {
          "output_type": "stream",
          "name": "stdout",
          "text": [
            "{\"destination\":\"U231503724031c8bc9c1fb712a41cc6aa\",\"events\":[{\"type\":\"message\",\"message\":{\"type\":\"text\",\"id\":\"16691913189562\",\"text\":\"@help\"},\"webhookEventId\":\"01GBMYR2FQ5AQ5QJKD1JAGD3EN\",\"deliveryContext\":{\"isRedelivery\":false},\"timestamp\":1661781936156,\"source\":{\"type\":\"user\",\"userId\":\"U97f2bcd49832938af4e5939dc8784145\"},\"replyToken\":\"5ff35c2f7174489ab8046a2c8f8e86cf\",\"mode\":\"active\"}]}\n"
          ]
        },
        {
          "output_type": "stream",
          "name": "stderr",
          "text": [
            "INFO:werkzeug:127.0.0.1 - - [29/Aug/2022 14:05:37] \"\u001b[37mPOST / HTTP/1.1\u001b[0m\" 200 -\n"
          ]
        },
        {
          "output_type": "stream",
          "name": "stdout",
          "text": [
            "{\"destination\":\"U231503724031c8bc9c1fb712a41cc6aa\",\"events\":[{\"type\":\"message\",\"message\":{\"type\":\"text\",\"id\":\"16691914128975\",\"text\":\"@美食\"},\"webhookEventId\":\"01GBMYRCSQWYY911AVPAY5CGQK\",\"deliveryContext\":{\"isRedelivery\":false},\"timestamp\":1661781947082,\"source\":{\"type\":\"user\",\"userId\":\"U97f2bcd49832938af4e5939dc8784145\"},\"replyToken\":\"90a213ecbd56457eb2540b5db4e38114\",\"mode\":\"active\"}]}\n"
          ]
        },
        {
          "output_type": "stream",
          "name": "stderr",
          "text": [
            "INFO:werkzeug:127.0.0.1 - - [29/Aug/2022 14:05:47] \"\u001b[37mPOST / HTTP/1.1\u001b[0m\" 200 -\n"
          ]
        }
      ]
    },
    {
      "cell_type": "code",
      "source": [],
      "metadata": {
        "id": "PfmG0A0pDdRc"
      },
      "execution_count": 108,
      "outputs": []
    }
  ]
}